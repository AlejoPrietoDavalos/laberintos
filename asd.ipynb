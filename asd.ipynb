{
 "cells": [
  {
   "cell_type": "code",
   "execution_count": null,
   "metadata": {},
   "outputs": [],
   "source": [
    "import matplotlib.pyplot as plt\n",
    "\n",
    "from tools.random_maze import create_random_maze\n",
    "\n",
    "# Generar el laberinto de tamaño 10x10\n",
    "maze, start, end = create_random_maze(10)\n",
    "\n",
    "\n",
    "\n",
    "start_i, start_j = start\n",
    "end_i, end_j = end\n",
    "\n",
    "print(type(start))\n",
    "print(start)\n",
    "print(\"--\")\n",
    "print(type(end))\n",
    "print(end)\n",
    "\n",
    "plt.imshow(maze, cmap=\"gray\")\n",
    "plt.scatter(start[1], start[0], color=\"red\", label=\"Inicio\")   # Invertimos índices (i, j)\n",
    "plt.scatter(end[1], end[0], color=\"green\", label=\"Final\")\n",
    "plt.legend()\n",
    "plt.show()"
   ]
  },
  {
   "cell_type": "code",
   "execution_count": 2,
   "metadata": {},
   "outputs": [
    {
     "name": "stdout",
     "output_type": "stream",
     "text": [
      "(-1, 0) - [(0, -1), (-1, 0), (0, 1), (1, 0)]\n",
      "(0, 1) - [(-1, 0), (0, 1), (1, 0), (0, -1)]\n",
      "(1, 0) - [(0, 1), (1, 0), (0, -1), (-1, 0)]\n",
      "(0, -1) - [(1, 0), (0, -1), (-1, 0), (0, 1)]\n"
     ]
    }
   ],
   "source": [
    "from tools.solutions.left_hand_rule import get_versor_left_y_todos_los_demas_no_se\n",
    "\n",
    "for versor in [(-1, 0), (0, 1), (1, 0), (0, -1)]:\n",
    "    asd = get_versor_left_y_todos_los_demas_no_se(versor)\n",
    "    print(f\"{versor} - {asd}\")\n"
   ]
  },
  {
   "cell_type": "code",
   "execution_count": null,
   "metadata": {},
   "outputs": [],
   "source": []
  },
  {
   "cell_type": "code",
   "execution_count": null,
   "metadata": {},
   "outputs": [],
   "source": []
  },
  {
   "cell_type": "code",
   "execution_count": null,
   "metadata": {},
   "outputs": [],
   "source": []
  },
  {
   "cell_type": "code",
   "execution_count": null,
   "metadata": {},
   "outputs": [],
   "source": []
  },
  {
   "cell_type": "code",
   "execution_count": null,
   "metadata": {},
   "outputs": [],
   "source": []
  },
  {
   "cell_type": "code",
   "execution_count": null,
   "metadata": {},
   "outputs": [],
   "source": []
  }
 ],
 "metadata": {
  "kernelspec": {
   "display_name": "env",
   "language": "python",
   "name": "python3"
  },
  "language_info": {
   "codemirror_mode": {
    "name": "ipython",
    "version": 3
   },
   "file_extension": ".py",
   "mimetype": "text/x-python",
   "name": "python",
   "nbconvert_exporter": "python",
   "pygments_lexer": "ipython3",
   "version": "3.11.9"
  }
 },
 "nbformat": 4,
 "nbformat_minor": 2
}
