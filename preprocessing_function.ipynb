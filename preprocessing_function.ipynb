{
 "cells": [
  {
   "cell_type": "markdown",
   "metadata": {},
   "source": [
    "## Función de pre-procesamiento para Laberinto\n",
    "\n",
    "Se realiza pre-procesamiento al laberinto mediante creación de una función que no estè incluida en el código pero que busque para todo i,j las celdas que cumplan:\n",
    "1. Son piso es (1).\n",
    "2. Tiene 3 vecinos pared (0) y 1 piso (1).\n",
    "\n",
    "Si cumple esa condición (es un callejón sin salida)  entonces que cambie el piso del i,j por un 0 (lo convierte a piso, y el punto no pueda pasar por allí).\n",
    "\n",
    "Luego ver si el i,j cumple esa condición, y el de los vecinos del i,j (haciéndose la misma pregunta)."
   ]
  },
  {
   "cell_type": "code",
   "execution_count": null,
   "metadata": {},
   "outputs": [],
   "source": [
    "def counting_wall_neighbors(maze: List[List[int]], i: int, j: int) -> tuple[int, list[tuple[int, int]]]: \n",
    "    wall_count = 0 #tracking walls \n",
    "    floor_neighbors = [] # storing coordinates of adjacent floor cells\n",
    "    directions = [(-1,0), (1, 0), (0, -1), [0, 1]] #possible moves\n",
    "\n",
    "    for di, dj in directions:\n",
    "        ni, nj = i + di, j +dj #ni, nj are the new coordinates after moving in tirection di,  dj\n",
    "\n",
    "    #Checking bounderies\n",
    "        if 0 <= ni < len(maze) and 0 <= nj < len(maze[0]):\n",
    "            if maze[ni][nj] == 0: #wall\n",
    "                wall_count += 1\n",
    "            else:\n",
    "                floor_neighbors.append((ni, nj))\n",
    "    # Creating a copy of the maze to avoid modifying the original\n",
    "    processed_maze = [row[:] for row in maze]\n",
    "    height, width = len(maze), len(maze[0])          \n",
    "\n",
    "    return wall_count, floor_neighbors"
   ]
  }
 ],
 "metadata": {
  "language_info": {
   "name": "python"
  }
 },
 "nbformat": 4,
 "nbformat_minor": 2
}
